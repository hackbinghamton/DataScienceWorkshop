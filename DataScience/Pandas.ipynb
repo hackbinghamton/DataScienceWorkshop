{
 "cells": [
  {
   "cell_type": "markdown",
   "metadata": {
    "colab_type": "text",
    "id": "OqSPMxD4F_li"
   },
   "source": [
    "# Introduction to Pandas\n",
    "## Overview\n",
    "### What You'll Learn\n",
    "In this section, you'll learn\n",
    "1. What Pandas and dataframes are\n",
    "1. How to load data into them\n",
    "1. How to work with and modify data in dataframes\n",
    "1. How to filter and sort to gain insight into data\n",
    "\n",
    "### Prerequisites\n",
    "Before starting this section, you should have an understanding of\n",
    "1. [Basic Python](https://github.com/HackBinghamton/PythonWorkshop)\n",
    "\n",
    "### Introduction\n",
    "**Pandas** is a Python library which provides high-performance, easy to use structures and data analysis tools. To dive in further, feel free to check out the [documentation](https://pandas.pydata.org/).\n",
    "\n",
    "### Setup\n",
    "\n",
    "***Make sure to run the below code block to set the section up!***"
   ]
  },
  {
   "cell_type": "code",
   "execution_count": null,
   "metadata": {},
   "outputs": [],
   "source": [
    "# Install requirements\n",
    "!pip install pandas\n",
    "!pip install requests\n",
    "\n",
    "# Fetch the data\n",
    "import requests\n",
    "url = \"https://web.stanford.edu/class/archive/cs/cs109/cs109.1166/stuff/titanic.csv\"\n",
    "raw_data = requests.get(url).text\n",
    "\n",
    "# Write it locally\n",
    "with open(\"titanic.csv\", \"w\") as data_file:\n",
    "    data_file.write(raw_data)"
   ]
  },
  {
   "cell_type": "markdown",
   "metadata": {
    "colab_type": "text",
    "id": "ifE6QK9bj-uQ"
   },
   "source": [
    "## Getting Started and Loading Data \n",
    "\n",
    "If you ever decide to use Pandas on your personal device, make sure to install it with:"
   ]
  },
  {
   "cell_type": "markdown",
   "metadata": {},
   "source": [
    "```\n",
    "pip3 install pandas\n",
    "```"
   ]
  },
  {
   "cell_type": "markdown",
   "metadata": {},
   "source": [
    "Pandas is usually imported like so:"
   ]
  },
  {
   "cell_type": "code",
   "execution_count": null,
   "metadata": {
    "colab": {},
    "colab_type": "code",
    "id": "WYfo8AYFF_lm"
   },
   "outputs": [],
   "source": [
    "import pandas as pd"
   ]
  },
  {
   "cell_type": "markdown",
   "metadata": {},
   "source": [
    "This means that we'll reference the Pandas library as `pd` in code -- it seems to be a standard for whatever reason.\n",
    "\n",
    "Now that we have Pandas imported in our code, let's get some data. \n",
    "\n",
    "### Loading the Titanic Dataset\n",
    "\n",
    "For this section, we'll be using a dataset that contains information about those aboard the Titanic -- it'll include things such as how much their fare was, what class service they purchased, sex, age, etc. Let's see what we can do with it!\n",
    "\n",
    "To load data from a comma-separated value (CSV) file (a standard format for collections of data), you'll use the following command, specifying the name of the file to load in the quotation marks:"
   ]
  },
  {
   "cell_type": "code",
   "execution_count": null,
   "metadata": {},
   "outputs": [],
   "source": [
    "dataframe = pd.read_csv(\"titanic.csv\")"
   ]
  },
  {
   "cell_type": "markdown",
   "metadata": {},
   "source": [
    "Cool, we now have our data all neatly packed into a Pandas \"Dataframe\" -- it's like a spreadsheet with column names and row labels. We can let Colab print it out nicely for us:"
   ]
  },
  {
   "cell_type": "code",
   "execution_count": null,
   "metadata": {},
   "outputs": [],
   "source": [
    "dataframe"
   ]
  },
  {
   "cell_type": "markdown",
   "metadata": {},
   "source": [
    "Sweet! Now, let's figure out how to do things with this data.\n",
    "\n",
    "## Data Viewing\n",
    "\n",
    "Pandas provides a massive amount of ways to view different aspects of a dataset.\n",
    "\n",
    "For starters, we can use the `.describe()` method to get some basic statistical information about our dataset:"
   ]
  },
  {
   "cell_type": "code",
   "execution_count": null,
   "metadata": {},
   "outputs": [],
   "source": [
    "dataframe.describe()"
   ]
  },
  {
   "cell_type": "markdown",
   "metadata": {},
   "source": [
    "This tells us measures like the averages and distributions of each column.\n",
    "\n",
    "If we'd just like to know things like the mean values of every column, we can use the `.mean()` method:"
   ]
  },
  {
   "cell_type": "code",
   "execution_count": null,
   "metadata": {},
   "outputs": [],
   "source": [
    "dataframe.mean()"
   ]
  },
  {
   "cell_type": "markdown",
   "metadata": {},
   "source": [
    "While these methods tell us some interesting information, like that the average fare was 32 pounds while the maximum was 512, **they don't tell us all that much**.\n",
    "\n",
    "We're more interested in seeing how these factors correlate with one another. Some questions we might ask might be:\n",
    "\n",
    "* Were people who paid for higher-class service more likely to survive?\n",
    "* Were children prioritized for rescue (i.e. were younger ages more likely to survive)?\n",
    "* What was the average fare of a 2nd Class ticket?\n",
    "* Were men and women charged different prices? What was the average cost of a 2nd Class ticket for a woman?\n",
    "\n",
    "Let's take a look at a few tools that'll get you started.\n",
    "\n",
    "## Group By (`.groupby()`)\n",
    "\n",
    "`.groupby()` lets you reorganize your dataframe into groups, at which point we can view it with one of the methods from above. To see how this works, let's answer the third question from above:"
   ]
  },
  {
   "cell_type": "code",
   "execution_count": null,
   "metadata": {},
   "outputs": [],
   "source": [
    "dataframe.groupby([\"Pclass\"])"
   ]
  },
  {
   "cell_type": "markdown",
   "metadata": {},
   "source": [
    "Well, that didn't work as expected. No worries! Calling things like `.groupby()` will return an entirely new DataFrame object, and we still have to display it with one of the functions from before. Let's use `.mean()`."
   ]
  },
  {
   "cell_type": "code",
   "execution_count": null,
   "metadata": {},
   "outputs": [],
   "source": [
    "dataframe.groupby([\"Pclass\"]).mean()"
   ]
  },
  {
   "cell_type": "markdown",
   "metadata": {},
   "source": [
    "We can see that the average data is now compared across two dimensions -- the passenger class, and the other columns. With this, we can now say that the average 2nd Class ticket cost 20 pounds.\n",
    "\n",
    "We can also use `.groupby` with multiple labels! Just use the format `dataframe.groupby([\"Column1\", \"Column2\", ...])`. With this sort of flexibility, we can answer our fourth question from above:"
   ]
  },
  {
   "cell_type": "code",
   "execution_count": null,
   "metadata": {},
   "outputs": [],
   "source": [
    "dataframe.groupby([\"Sex\", \"Pclass\"]).mean()"
   ]
  },
  {
   "cell_type": "markdown",
   "metadata": {},
   "source": [
    "As we can see, women generally paid more for their tickets -- in the case of 1st Class tickets, women paid close to double what men did!\n",
    "\n",
    "## Filter by Condition\n",
    "\n",
    "Now, what if we want to look at such information, but only look at certain regions of the data? For example, if we were trying to answer our second question, we'd only really like to look at those under a certain range in the Age column.\n",
    "\n",
    "To do so, we can filter like so:"
   ]
  },
  {
   "cell_type": "code",
   "execution_count": null,
   "metadata": {},
   "outputs": [],
   "source": [
    "dataframe[dataframe[\"Age\"]<18].mean()"
   ]
  },
  {
   "cell_type": "markdown",
   "metadata": {},
   "source": [
    "This will look confusing to anyone who uses Python regularly, since it looks like we're selecting out of a list with... a list. No worries, just follow this format and change the columns you'd like to filter through and you'll be fine.\n",
    "\n",
    "## Exercises\n",
    "\n",
    "So, the information in the code block above tells us what the average survival rate for those under 18 was. Given this, find the answer to our second question: Were children prioritized for rescue (i.e. were younger ages more likely to survive)?"
   ]
  },
  {
   "cell_type": "code",
   "execution_count": null,
   "metadata": {},
   "outputs": [],
   "source": [
    "# Your code here!"
   ]
  },
  {
   "cell_type": "markdown",
   "metadata": {},
   "source": [
    "Now, answer our first question: Were people who paid for higher-class service more likely to survive?"
   ]
  },
  {
   "cell_type": "code",
   "execution_count": null,
   "metadata": {},
   "outputs": [],
   "source": [
    "# Your code here!"
   ]
  }
 ],
 "metadata": {
  "colab": {
   "name": "Pandas.ipynb",
   "provenance": [],
   "version": "0.3.2"
  },
  "kernelspec": {
   "display_name": "Python 3",
   "language": "python",
   "name": "python3"
  },
  "language_info": {
   "codemirror_mode": {
    "name": "ipython",
    "version": 3
   },
   "file_extension": ".py",
   "mimetype": "text/x-python",
   "name": "python",
   "nbconvert_exporter": "python",
   "pygments_lexer": "ipython3",
   "version": "3.8.5"
  }
 },
 "nbformat": 4,
 "nbformat_minor": 1
}
