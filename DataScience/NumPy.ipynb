{
 "cells": [
  {
   "cell_type": "markdown",
   "metadata": {
    "colab_type": "text",
    "id": "INVLYLBIDB91"
   },
   "source": [
    "# NumPy\n",
    "## Overview\n",
    "### What You'll Learn\n",
    "In this section, you'll learn\n",
    "1. What NumPy and its arrays are\n",
    "1. How to generate them\n",
    "1. How to access them\n",
    "1. How to do some basic operations on them\n",
    "\n",
    "### Prerequisites\n",
    "Before starting this section, you should have an understanding of\n",
    "1. [Basic Python](https://github.com/HackBinghamton/PythonWorkshop)\n",
    "\n",
    "### Introduction\n",
    "**Numerical Python (NumPy)** is an open source module of Python which provides fast mathematical computation on arrays and matrices, which are an essential part of machine learning, which we'll be diving into next week!\n",
    "\n",
    "NumPy is considered to be one of two essential Python libraries for any data analysis, scientific computation, including model development for machine learning.\n",
    "\n",
    "If you want to learn more about the functions this workshop goes over, checkout the [NumPy documentation](https://numpy.org/devdocs/). \n",
    "\n",
    "\n",
    "## Setup\n",
    "\n",
    "***Make sure to run the below code block to set the section up!***"
   ]
  },
  {
   "cell_type": "code",
   "execution_count": null,
   "metadata": {},
   "outputs": [],
   "source": [
    "!pip install numpy"
   ]
  },
  {
   "cell_type": "markdown",
   "metadata": {
    "colab_type": "text",
    "id": "qAhdXMoyDS2K"
   },
   "source": [
    "## Importing\n",
    "We can import NumPy by typing:"
   ]
  },
  {
   "cell_type": "code",
   "execution_count": null,
   "metadata": {
    "colab": {},
    "colab_type": "code",
    "id": "lWH4ajPLDKeh"
   },
   "outputs": [],
   "source": [
    "import numpy as np"
   ]
  },
  {
   "cell_type": "markdown",
   "metadata": {
    "colab_type": "text",
    "id": "YG2hKdGppRIZ"
   },
   "source": [
    "## NumPy Arrays (ndarray)\n",
    "\n",
    "NumPy’s main object is a homogeneous multidimensional array, also called a **ndarray**. It is a table with same type elements (usually integers).\n",
    "\n",
    "In NumPy, dimensions are called ***axes***. The number of axes is called the ***rank***. To create an NumPy array, you can use the following functions:\n",
    "* `np.array`\n",
    "* `np.ones`\n",
    "* `np.full`\n",
    "* `np.arange`\n",
    "* `np.linspace`\n",
    "* `np.random.rand`\n",
    "* `np.empty`\n",
    "\n",
    "Try running each of the below code blocks to see what each function does!"
   ]
  },
  {
   "cell_type": "code",
   "execution_count": null,
   "metadata": {
    "colab": {
     "base_uri": "https://localhost:8080/",
     "height": 34
    },
    "colab_type": "code",
    "id": "C2v_OLXJdEM6",
    "outputId": "982c1d8a-9a10-4f8d-fa7e-ac4208e8c283"
   },
   "outputs": [],
   "source": [
    "import numpy as np\n",
    "\n",
    "a = np.array([1, 2, 3])\n",
    "print(a, type(a))"
   ]
  },
  {
   "cell_type": "code",
   "execution_count": null,
   "metadata": {
    "colab": {
     "base_uri": "https://localhost:8080/",
     "height": 68
    },
    "colab_type": "code",
    "id": "n-pUq0WbR39K",
    "outputId": "dcc2366f-9ea0-4a78-9bd0-87f09b642e3d"
   },
   "outputs": [],
   "source": [
    "import numpy as np\n",
    "\n",
    "# This creates an array with 3 rows and 4 columns\n",
    "# *dtype*: you can set dtype to the type of variable you want in your array (int, bool, etc.)\n",
    "np.ones( (3,4), dtype=np.int16 )  "
   ]
  },
  {
   "cell_type": "code",
   "execution_count": null,
   "metadata": {
    "colab": {
     "base_uri": "https://localhost:8080/",
     "height": 68
    },
    "colab_type": "code",
    "id": "dtjn7_aIR5RS",
    "outputId": "2a0ed7a0-2d08-4080-f4ee-ca3aedb2b54c"
   },
   "outputs": [],
   "source": [
    "import numpy as np\n",
    "\n",
    "np.full( (3,4), 0.11 )  "
   ]
  },
  {
   "cell_type": "code",
   "execution_count": null,
   "metadata": {
    "colab": {
     "base_uri": "https://localhost:8080/",
     "height": 34
    },
    "colab_type": "code",
    "id": "X9wRzmhkR5fM",
    "outputId": "358919e8-78b2-4c18-dbf8-3dfcf754a06a"
   },
   "outputs": [],
   "source": [
    "import numpy as np\n",
    "\n",
    "# Creates the array [10, 15, 20, 25]\n",
    "print(np.arange( 10, 30, 5 ))\n",
    " \n",
    "# Floating point example\n",
    "print(np.arange( 0, 2, 0.3 ))             \n"
   ]
  },
  {
   "cell_type": "code",
   "execution_count": null,
   "metadata": {
    "colab": {
     "base_uri": "https://localhost:8080/",
     "height": 51
    },
    "colab_type": "code",
    "id": "1IrRfknoR5pb",
    "outputId": "f86fa1f2-ac96-4496-9f75-028a7409551f"
   },
   "outputs": [],
   "source": [
    "import numpy as np\n",
    "\n",
    "np.linspace(0, 5/3, 6)"
   ]
  },
  {
   "cell_type": "code",
   "execution_count": null,
   "metadata": {
    "colab": {
     "base_uri": "https://localhost:8080/",
     "height": 51
    },
    "colab_type": "code",
    "id": "81-3d3uJSZ5r",
    "outputId": "dff26cd9-5b92-435a-c804-bad481f3076f"
   },
   "outputs": [],
   "source": [
    "import numpy as np\n",
    "\n",
    "np.random.rand(2,3)"
   ]
  },
  {
   "cell_type": "code",
   "execution_count": null,
   "metadata": {
    "colab": {
     "base_uri": "https://localhost:8080/",
     "height": 51
    },
    "colab_type": "code",
    "id": "fzGOh6bASxwL",
    "outputId": "2b34bc1c-9d72-4ba3-a9f5-225f40b75c83"
   },
   "outputs": [],
   "source": [
    "import numpy as np\n",
    "\n",
    "np.empty((2,3))"
   ]
  },
  {
   "cell_type": "markdown",
   "metadata": {
    "colab_type": "text",
    "id": "eaByBZylLasg"
   },
   "source": [
    "### Exercise\n",
    "\n",
    "Create and print out a 3x3 ndarray that contains True for all values.\n",
    "\n",
    "*Hint*: Don't forget to change the **dtype**!"
   ]
  },
  {
   "cell_type": "code",
   "execution_count": null,
   "metadata": {
    "colab": {},
    "colab_type": "code",
    "id": "Yl-PAI6SNiwR"
   },
   "outputs": [],
   "source": [
    "# Your code here!"
   ]
  },
  {
   "cell_type": "markdown",
   "metadata": {
    "colab_type": "text",
    "id": "sJ5MKD6BNWJL"
   },
   "source": [
    "## Array Attributes\n",
    "\n",
    "These are attributes of NumPy's array object that we can use:\n",
    "\n",
    "* **ndim**: displays the dimension of the array\n",
    "* **shape**: returns a tuple of integers indicating the size of the array\n",
    "* **size**: returns the total number of elements in the NumPy array\n",
    "* **dtype**: returns the type of elements in the array, i.e., int64, character\n",
    "* **itemsize**: returns the size in bytes of each item\n",
    "* **arange**: returns an ndarray of evenly spaced values\n",
    "* **reshape**: reshapes the NumPy array"
   ]
  },
  {
   "cell_type": "markdown",
   "metadata": {
    "colab_type": "text",
    "id": "U5vKHdJ6Qv38"
   },
   "source": [
    "## Python Lists vs. NumPy Arrays\n",
    "\n",
    "Some ways in which NumPy arrays are different from normal Python arrays are:\n",
    "1. You can assign a single value to a slice of the ndarray\n",
    "2. When you modify a slice, you modify the original ndarray \n",
    "3. You can use boolean indexing to access an ndarray"
   ]
  },
  {
   "cell_type": "markdown",
   "metadata": {
    "colab_type": "text",
    "id": "Rkbg11A9NP0D"
   },
   "source": [
    "### Assigning a single value to a slice\n",
    "If you assign a single value to a ndarray slice, it is copied across the whole slice. This makes it easier to assign values because a regular array would need a loop to assign all of them."
   ]
  },
  {
   "cell_type": "code",
   "execution_count": null,
   "metadata": {
    "colab": {
     "base_uri": "https://localhost:8080/",
     "height": 34
    },
    "colab_type": "code",
    "id": "ylemFxhRRoT0",
    "outputId": "50dd795e-14fc-4287-9054-3d59efbf935c"
   },
   "outputs": [],
   "source": [
    "import numpy as np\n",
    "\n",
    "a = np.array([1, 2, 5, 7, 8])\n",
    "a[1:3] = -1\n",
    "a"
   ]
  },
  {
   "cell_type": "markdown",
   "metadata": {
    "colab_type": "text",
    "id": "qgupJr5QUD51"
   },
   "source": [
    "### Modifying slices will modify the original\n",
    "ndarray slices are actually views on the same array the slice was taken from. If you modify the slice, you modify the original ndarray as well.\n"
   ]
  },
  {
   "cell_type": "code",
   "execution_count": null,
   "metadata": {
    "colab": {
     "base_uri": "https://localhost:8080/",
     "height": 34
    },
    "colab_type": "code",
    "id": "einPaTVJUKFL",
    "outputId": "fec43ca2-19e5-4f08-8bbc-717ba7888784"
   },
   "outputs": [],
   "source": [
    "a = np.array([1, 2, 5, 7, 8])\n",
    "a_slice = a[1:5]\n",
    "a_slice[1] = 1000\n",
    "a\n",
    "# Original array was modified"
   ]
  },
  {
   "cell_type": "markdown",
   "metadata": {
    "colab_type": "text",
    "id": "PIX3jeMzVREj"
   },
   "source": [
    "If we need a copy of the NumPy array, we need to use the copy method: another_slice = a[1:5].copy(). If we modify another_slice, 'a' remains same.\n",
    "\n"
   ]
  },
  {
   "cell_type": "code",
   "execution_count": null,
   "metadata": {
    "colab": {
     "base_uri": "https://localhost:8080/",
     "height": 34
    },
    "colab_type": "code",
    "id": "3rl78c8bVZvm",
    "outputId": "c2dd2514-1ba8-4717-af8b-ec4f2bda811a"
   },
   "outputs": [],
   "source": [
    "import numpy as np\n",
    "\n",
    "a = np.array([1, 2, 5, 7, 8])\n",
    "another_slice = a[1:5].copy()\n",
    "another_slice[1] = 1000\n",
    "a\n",
    "# Original array was modified"
   ]
  },
  {
   "cell_type": "markdown",
   "metadata": {
    "colab_type": "text",
    "id": "ymvAvUdCV5z9"
   },
   "source": [
    "### Accessing multidimensional arrays\n",
    "\n",
    "The way multidimensional arrays are accessed using NumPy is different from how they are accessed in normal python arrays. The generic format in NumPy multi-dimensional arrays is:\n",
    "\n",
    "```\n",
    "Array[row_start_index:row_end_index, column_start_index: column_end_index]\n",
    "```\n",
    "\n",
    "NumPy arrays can also be accessed using boolean indexing:"
   ]
  },
  {
   "cell_type": "code",
   "execution_count": null,
   "metadata": {
    "colab": {
     "base_uri": "https://localhost:8080/",
     "height": 68
    },
    "colab_type": "code",
    "id": "ngeNmIgqpT82",
    "outputId": "766e8e09-477b-4095-fced-96af12f26768"
   },
   "outputs": [],
   "source": [
    "import numpy as np\n",
    "\n",
    "a = np.arange(12).reshape(3, 4)\n",
    "print(a)"
   ]
  },
  {
   "cell_type": "code",
   "execution_count": null,
   "metadata": {
    "colab": {
     "base_uri": "https://localhost:8080/",
     "height": 51
    },
    "colab_type": "code",
    "id": "9BdI0xh1ZN3a",
    "outputId": "68640007-9548-46aa-f1cd-64b023703144"
   },
   "outputs": [],
   "source": [
    "import numpy as np\n",
    "\n",
    "a = np.arange(12).reshape(3, 4)\n",
    "\n",
    "rows_on = np.array([True, False, True])\n",
    "a[rows_on , : ]      # Rows 0 and 2, all columns"
   ]
  },
  {
   "cell_type": "markdown",
   "metadata": {
    "colab_type": "text",
    "id": "cIF4WDQ-Znyy"
   },
   "source": [
    "## Broadcasting\n",
    "\n",
    "In general, when NumPy expects arrays of the same shape but finds that this is not the case, it applies the **broadcasting** rules.\n",
    "\n",
    "[Here](https://cloudxlab.com/blog/wp-content/uploads/2017/12/Screen-Shot-2017-12-13-at-5.57.21-PM.png) are some examples of these broadcasting rules applied.\n",
    "\n",
    "There are 2 rules of Broadcasting to remember:\n",
    "\n",
    "1. For the arrays that do not have the same rank, then a 1 will be added to the beginning of the smaller ranking arrays until their ranks match.\n",
    "    *  Example: When adding arrays A and B of sizes (3,3) and (,3) [rank 2 and rank 1], 1 will be added to the beginning of array B to make it (1,3) [rank=2]. The two sets are compatible when their dimensions are equal or either one of the dimension is 1. \n",
    "\n",
    "2. When either of the dimensions compared is one, the other is used. In other words, dimensions with size 1 are stretched or “copied” to match the other.\n",
    "    * Example: when adding a 2D array A of shape (3,3) to a 2D ndarray B of shape (1, 3). NumPy will apply the above rule of broadcasting. It shall stretch the array B and replicate the first row 3 times to make array B of dimensions (3,3) and perform the operation.\n",
    "\n"
   ]
  },
  {
   "cell_type": "markdown",
   "metadata": {
    "colab_type": "text",
    "id": "VttE_qFXPFXs"
   },
   "source": [
    "### Example\n",
    "\n",
    "```\n",
    "arr1 = np.ones((2, 3))\n",
    "arr2 = np.arange(3)\n",
    "```\n",
    "\n",
    "Lets find the shape of the sum of these two arrays. The shape of the arrays are\n",
    "\n",
    "```\n",
    "arr1.shape = (2, 3)\n",
    "arr2.shape = (3,)\n",
    "```\n",
    "\n",
    "We look at rule 1 and see that the array **arr2** has fewer dimensions, so we pad it on the left with ones:\n",
    "\n",
    "```\n",
    "arr1.shape -> (2, 3)\n",
    "arr2.shape -> (1, 3)\n",
    "```\n",
    "\n",
    "Next is rule 2, and we now see that the first dimension disagrees, so we stretch this dimension to match:\n",
    "\n",
    "```\n",
    "arr1.shape -> (2, 3)\n",
    "arr2.shape -> (2, 3)\n",
    "```\n",
    "\n",
    "The shapes match, and we see that the final shape will be (2, 3):"
   ]
  },
  {
   "cell_type": "code",
   "execution_count": null,
   "metadata": {
    "colab": {
     "base_uri": "https://localhost:8080/",
     "height": 51
    },
    "colab_type": "code",
    "id": "IjXcrS_aPEI4",
    "outputId": "58c0c089-7f19-4d3f-b82c-dc64cdca55e0"
   },
   "outputs": [],
   "source": [
    "import numpy as np\n",
    "\n",
    "arr1 = np.ones((2, 3))\n",
    "arr2 = np.arange(3)\n",
    "\n",
    "arr1 + arr2"
   ]
  },
  {
   "cell_type": "markdown",
   "metadata": {
    "colab_type": "text",
    "id": "D3KZ0lmqeSJv"
   },
   "source": [
    "## Math with NumPy\n",
    "\n",
    "NumPy provides a layout for using math with the NumPy arrays.\n",
    "\n",
    "NumPy provides ***basic mathematical and statistical functions*** like mean, min, max, sum, prod, std, var, summation across different axes, transposing of a matrix, etc, while NumPy arrays themselves are capable of performing ***basic operations*** such as addition, subtraction, product, matrix dot product, division, modulo, exponents and conditional operations."
   ]
  },
  {
   "cell_type": "markdown",
   "metadata": {
    "colab_type": "text",
    "id": "i5bRh0Ghf3zv"
   },
   "source": [
    "NumPy is even able to solve linear equations. If we want to sofind the coefficients of:\n",
    "\n",
    "```\n",
    "2x + 6y = 6\n",
    "5x + 3y = -9\n",
    "```\n",
    "\n",
    "We can use ndarrays and built-in NumPy linear algebra functionality, like so:"
   ]
  },
  {
   "cell_type": "code",
   "execution_count": null,
   "metadata": {
    "colab": {
     "base_uri": "https://localhost:8080/",
     "height": 34
    },
    "colab_type": "code",
    "id": "ETkP5tcJgV-a",
    "outputId": "4f245124-6c75-4225-e950-7eea1d15a999"
   },
   "outputs": [],
   "source": [
    "import numpy as np\n",
    "\n",
    "coeffs  = np.array([[2, 6], [5, 3]])\n",
    "depvars = np.array([6, -9])\n",
    "solution = np.linalg.solve(coeffs, depvars)\n",
    "solution"
   ]
  },
  {
   "cell_type": "markdown",
   "metadata": {},
   "source": [
    "### Exercise\n",
    "\n",
    "Solve this equation using NumPy:\n",
    "\n",
    "```\n",
    "3x + 5y - 7z = 130\n",
    "x + 33y + 10z = 5\n",
    "-13x - 2y + 3z = 17\n",
    "```"
   ]
  },
  {
   "cell_type": "code",
   "execution_count": null,
   "metadata": {},
   "outputs": [],
   "source": [
    "# Your code here!"
   ]
  },
  {
   "cell_type": "markdown",
   "metadata": {},
   "source": [
    "If your answer is correct, you should have `x = -6.13952078`, `y = 5.55929633`, and `z = -17.23172581`.\n",
    "\n",
    "## Note: Using NumPy with Pandas\n",
    "\n",
    "If you're ever trying to take a numpy array you've generated and use it to modify/append to/do an operation with a Pandas DataFrame, you can do that! We won't cover that in detail here, since there are many functions that revolve around (e.g. `flatten`, and the arguments for the constructors of NumPy Arrays and Pandas DataFrames), but we just wanted to make a note of that in case you were wondering (and maybe it'll help you on the project)!"
   ]
  }
 ],
 "metadata": {
  "colab": {
   "name": "NumPy.ipynb",
   "provenance": []
  },
  "kernelspec": {
   "display_name": "Python 3",
   "language": "python",
   "name": "python3"
  },
  "language_info": {
   "codemirror_mode": {
    "name": "ipython",
    "version": 3
   },
   "file_extension": ".py",
   "mimetype": "text/x-python",
   "name": "python",
   "nbconvert_exporter": "python",
   "pygments_lexer": "ipython3",
   "version": "3.8.5"
  }
 },
 "nbformat": 4,
 "nbformat_minor": 1
}
